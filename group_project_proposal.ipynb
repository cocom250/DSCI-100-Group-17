{
 "cells": [
  {
   "cell_type": "markdown",
   "id": "ccc02037-e107-451b-8859-d9ee7d0c8aee",
   "metadata": {},
   "source": [
    "Predicting Heart Disease in Patients Using Classification"
   ]
  }
 ],
 "metadata": {
  "kernelspec": {
   "display_name": "R",
   "language": "R",
   "name": "ir"
  },
  "language_info": {
   "codemirror_mode": "r",
   "file_extension": ".r",
   "mimetype": "text/x-r-source",
   "name": "R",
   "pygments_lexer": "r",
   "version": "4.2.2"
  }
 },
 "nbformat": 4,
 "nbformat_minor": 5
}
