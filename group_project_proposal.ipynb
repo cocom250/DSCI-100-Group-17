{
 "cells": [
  {
   "cell_type": "markdown",
   "id": "ccc02037-e107-451b-8859-d9ee7d0c8aee",
   "metadata": {},
   "source": [
    "Predicting Heart Disease in Patients Using Classification"
   ]
  },
  {
   "cell_type": "code",
   "execution_count": null,
   "id": "ad768182-d721-4945-bb18-c77f03b1db69",
   "metadata": {},
   "outputs": [],
   "source": [
    "chris"
   ]
  }
 ],
 "metadata": {
  "kernelspec": {
   "display_name": "R",
   "language": "R",
   "name": "ir"
  },
  "language_info": {
   "codemirror_mode": "r",
   "file_extension": ".r",
   "mimetype": "text/x-r-source",
   "name": "R",
   "pygments_lexer": "r",
   "version": "4.2.2"
  }
 },
 "nbformat": 4,
 "nbformat_minor": 5
}
