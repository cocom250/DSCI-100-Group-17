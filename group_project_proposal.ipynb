{
 "cells": [
  {
   "cell_type": "markdown",
   "id": "ccc02037-e107-451b-8859-d9ee7d0c8aee",
   "metadata": {},
   "source": [
    "Predicting Heart Disease in Patients Using Classification"
   ]
  },
  {
   "cell_type": "code",
   "execution_count": null,
   "id": "ad768182-d721-4945-bb18-c77f03b1db69",
   "metadata": {},
   "outputs": [],
   "source": []
  },
  {
   "cell_type": "code",
   "execution_count": null,
   "id": "69838b0d-c0e7-4dda-a7c9-fa1b3db074a1",
   "metadata": {},
   "outputs": [],
   "source": [
    "library(tidyverse)\n",
    "library(repr)\n",
    "library(tidymodels)"
   ]
  }
 ],
 "metadata": {
  "kernelspec": {
   "display_name": "R",
   "language": "R",
   "name": "ir"
  },
  "language_info": {
   "codemirror_mode": "r",
   "file_extension": ".r",
   "mimetype": "text/x-r-source",
   "name": "R",
   "pygments_lexer": "r",
   "version": "4.2.2"
  }
 },
 "nbformat": 4,
 "nbformat_minor": 5
}
